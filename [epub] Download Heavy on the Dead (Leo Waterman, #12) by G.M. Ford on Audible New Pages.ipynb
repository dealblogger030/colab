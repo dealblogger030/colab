{
  "metadata": {
    "kernelspec": {
      "name": "python",
      "display_name": "Python (Pyodide)",
      "language": "python"
    },
    "language_info": {
      "codemirror_mode": {
        "name": "python",
        "version": 3
      },
      "file_extension": ".py",
      "mimetype": "text/x-python",
      "name": "python",
      "nbconvert_exporter": "python",
      "pygments_lexer": "ipython3",
      "version": "3.8"
    }
  },
  "nbformat_minor": 5,
  "nbformat": 4,
  "cells": [
    {
      "cell_type": "markdown",
      "source": "<p><strong>EPUB &amp; PDF Ebook Heavy on the Dead (Leo Waterman, #12) | EBOOK ONLINE DOWNLOAD</strong></p><p><em>by G.M. Ford.</em></p><p><img style=\"display: block; height: 450px; margin-left: auto; margin-right: auto; width: 350px;\" src=\"https://i.gr-assets.com/images/S/compressed.photo.goodreads.com/books/1560798003l/40734311.jpg\" alt=\"EBOOK Heavy on the Dead (Leo Waterman, #12)\" /></p><ul><li><strong>Download Link : </strong><a href=\"https://media.booksrewards.com/?book=40734311-heavy-on-the-dead\">DOWNLOAD Heavy on the Dead (Leo Waterman, #12)</a></li><li><strong>Read More : </strong><a href=\"https://media.booksrewards.com/?book=40734311-heavy-on-the-dead\">READ Heavy on the Dead (Leo Waterman, #12)</a></li></ul><p><strong>Ebook PDF Heavy on the Dead (Leo Waterman, #12)</strong> | EBOOK ONLINE DOWNLOAD<br />Hello Book lovers, If you want to download free Ebook, you are in the right place to download Ebook.<strong> Ebook Heavy on the Dead (Leo Waterman, #12) EBOOK ONLINE DOWNLOAD</strong> in English is available for free here, Click on the download LINK below to download Ebook Heavy on the Dead (Leo Waterman, #12) 2020 PDF Download in English by G.M. Ford (Author).</p><p>&nbsp;</p><p><strong>Description:</strong></p><p><span style=\"0font-family: Comic;\">One body on the sunny beach is all it takes for PI Leo Waterman to feel a chill.After seven months laying low in Ocean Beach, California, Seattle PI Leo Waterman has finally stopped looking over his shoulder?specifically, for the vengeful band of Washington white supremacists who blame Leo for blindsiding their big plans for America. Where better to disappear with his bodyguard, Gabe, than this laid-back stretch of San Diego heaven? But when Leo finds a boy?s body on the beach, he comes out of hiding to investigate.That?s when Leo discovers that the victim is not an isolated missing-persons case. It?s the key to something bigger, and it?s leading Leo and Gabe into the dark heart of a human trafficking ring in Mexico. But whatever dangers lay ahead of them, they?re matched threat for threat by what?s coming up from behind.Because the fanatics back home haven?t given up on Leo. Now he and Gabe are caught in the cross fire between two evils. And each one has its own reason for making  .</span></p><p>&nbsp;</p><p><span style=\"0font-family: Comic;\"><strong>Supporting format</strong>: <em>PDF, EPUB, Kindle, Audio, MOBI, HTML, RTF, TXT, etc.</em></span></p><p><span style=\"0font-family: Comic;\"><strong>Supporting</strong> : <em>PC, Android, Apple, Ipad, Iphone, etc.</em></span></p><p><span style=\"0font-family: Comic;\">================*================</span></p>",
      "metadata": {
        "jp-MarkdownHeadingCollapsed": true
      },
      "id": ""
    }
  ]
}
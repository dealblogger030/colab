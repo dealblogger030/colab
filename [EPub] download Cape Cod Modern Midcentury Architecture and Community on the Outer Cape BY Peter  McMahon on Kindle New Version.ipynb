{
  "metadata": {
    "kernelspec": {
      "name": "python",
      "display_name": "Python (Pyodide)",
      "language": "python"
    },
    "language_info": {
      "codemirror_mode": {
        "name": "python",
        "version": 3
      },
      "file_extension": ".py",
      "mimetype": "text/x-python",
      "name": "python",
      "nbconvert_exporter": "python",
      "pygments_lexer": "ipython3",
      "version": "3.8"
    }
  },
  "nbformat_minor": 5,
  "nbformat": 4,
  "cells": [
    {
      "cell_type": "markdown",
      "source": "<p><strong>EPUB &amp; PDF Ebook Cape Cod Modern: Midcentury Architecture and Community on the Outer Cape | EBOOK ONLINE DOWNLOAD</strong></p><p><em>by Peter  McMahon.</em></p><p><img style=\"display: block; height: 450px; margin-left: auto; margin-right: auto; width: 350px;\" src=\"https://i.gr-assets.com/images/S/compressed.photo.goodreads.com/books/1400130399l/20300466.jpg\" alt=\"EBOOK Cape Cod Modern: Midcentury Architecture and Community on the Outer Cape\" /></p><ul><li><strong>Download Link : </strong><a href=\"https://media.booksedition.com/?book=20300466\">DOWNLOAD Cape Cod Modern: Midcentury Architecture and Community on the Outer Cape</a></li><li><strong>Read More : </strong><a href=\"https://media.booksedition.com/?book=20300466\">READ Cape Cod Modern: Midcentury Architecture and Community on the Outer Cape</a></li></ul><p><strong>Ebook PDF Cape Cod Modern: Midcentury Architecture and Community on the Outer Cape</strong> | EBOOK ONLINE DOWNLOAD<br />Hello Book lovers, If you want to download free Ebook, you are in the right place to download Ebook.<strong> Ebook Cape Cod Modern: Midcentury Architecture and Community on the Outer Cape EBOOK ONLINE DOWNLOAD</strong> in English is available for free here, Click on the download LINK below to download Ebook Cape Cod Modern: Midcentury Architecture and Community on the Outer Cape 2020 PDF Download in English by Peter  McMahon (Author).</p><p>&nbsp;</p><p><strong>Description:</strong></p><p><span style=\"0font-family: Comic;\">In the summer of 1937, Walter Gropius, founder of the Bauhaus and a professor at Harvard's new Graduate School of Design, rented a house on Planting Island, near the base of Cape Cod. There, he and his wife, Ise, hosted a festive reunion of Bauhaus masters and students who had recently emigrated from Europe: Marcel Breuer, Herbert Bayer, Laszlo Moholy-Nagy, Xanti Schawinsky and others. Together they feasted, swam and planned their futures on a new continent, all sensing they were on the cusp of a momentous new phase in their lives. Yet even as they moved on, the group never lost its connection to the Cape Cod coast. Several members returned, when they had the means, to travel farther up the peninsula, rent cabins, buy land and design their ideal summer homes. Thus began a chapter in the history of modern architecture that has never been told--until now. The flow of talent onto the Outer Cape continued and, within a few years, the area was a hotbed of intellectual currents from New  .</span></p><p>&nbsp;</p><p><span style=\"0font-family: Comic;\"><strong>Supporting format</strong>: <em>PDF, EPUB, Kindle, Audio, MOBI, HTML, RTF, TXT, etc.</em></span></p><p><span style=\"0font-family: Comic;\"><strong>Supporting</strong> : <em>PC, Android, Apple, Ipad, Iphone, etc.</em></span></p><p><span style=\"0font-family: Comic;\">================*================</span></p>",
      "metadata": {
        "jp-MarkdownHeadingCollapsed": true
      },
      "id": ""
    }
  ]
}
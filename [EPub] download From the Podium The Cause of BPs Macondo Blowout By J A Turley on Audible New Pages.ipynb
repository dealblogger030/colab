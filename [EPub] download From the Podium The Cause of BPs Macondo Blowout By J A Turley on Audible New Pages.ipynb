{
  "metadata": {
    "kernelspec": {
      "name": "python",
      "display_name": "Python (Pyodide)",
      "language": "python"
    },
    "language_info": {
      "codemirror_mode": {
        "name": "python",
        "version": 3
      },
      "file_extension": ".py",
      "mimetype": "text/x-python",
      "name": "python",
      "nbconvert_exporter": "python",
      "pygments_lexer": "ipython3",
      "version": "3.8"
    }
  },
  "nbformat_minor": 5,
  "nbformat": 4,
  "cells": [
    {
      "cell_type": "markdown",
      "source": "<p><strong>EPUB &amp; PDF Ebook From the Podium: The Cause of BP's Macondo Blowout | EBOOK ONLINE DOWNLOAD</strong></p><p><em>by J A Turley.</em></p><p><img style=\"display: block; height: 450px; margin-left: auto; margin-right: auto; width: 350px;\" src=\"https://i.gr-assets.com/images/S/compressed.photo.goodreads.com/books/1548236195l/43672569.jpg\" alt=\"EBOOK From the Podium: The Cause of BP's Macondo Blowout\" /></p><ul><li><strong>Download Link : </strong><a href=\"https://media.booksrewards.com/?book=0985877235\">DOWNLOAD From the Podium: The Cause of BP's Macondo Blowout</a></li><li><strong>Read More : </strong><a href=\"https://media.booksrewards.com/?book=0985877235\">READ From the Podium: The Cause of BP's Macondo Blowout</a></li></ul><p><strong>Ebook PDF From the Podium: The Cause of BP's Macondo Blowout</strong> | EBOOK ONLINE DOWNLOAD<br />Hello Book lovers, If you want to download free Ebook, you are in the right place to download Ebook.<strong> Ebook From the Podium: The Cause of BP's Macondo Blowout EBOOK ONLINE DOWNLOAD</strong> in English is available for free here, Click on the download LINK below to download Ebook From the Podium: The Cause of BP's Macondo Blowout 2020 PDF Download in English by J A Turley (Author).</p><p>&nbsp;</p><p><strong>Description:</strong></p><p><span style=\"0font-family: Comic;\">The author--J. A. (John) Turley--is a retired petroleum-engineering professor, drilling manager, and oil-and-gas executive. He wrote mysteries for ten years before BP's April 2010 Macondo blowout in the Gulf of Mexico, after which he fully committed his research and writing time to the real-world disaster.Looking for answers to an often-repeated question--"What happened to that rig in the Gulf?"--he studied publicly available depositions, well data, and investigative reports; ignored finger-pointing, pontificating attorneys, and hearsay evidence; and assessed the cause of the disaster from engineering, operations, and management perspectives. Defining the cause of the blowout and applying results to future wells became: (1) the subject of his widely acclaimed book, THE SIMPLE TRUTH: BP's Macondo Blowout, and (2) the basis for his professional speaking platform, with seventy-five presentations in eleven countries and across the US to operating companies, professional societies,  .</span></p><p>&nbsp;</p><p><span style=\"0font-family: Comic;\"><strong>Supporting format</strong>: <em>PDF, EPUB, Kindle, Audio, MOBI, HTML, RTF, TXT, etc.</em></span></p><p><span style=\"0font-family: Comic;\"><strong>Supporting</strong> : <em>PC, Android, Apple, Ipad, Iphone, etc.</em></span></p><p><span style=\"0font-family: Comic;\">================*================</span></p>",
      "metadata": {
        "jp-MarkdownHeadingCollapsed": true
      },
      "id": ""
    }
  ]
}
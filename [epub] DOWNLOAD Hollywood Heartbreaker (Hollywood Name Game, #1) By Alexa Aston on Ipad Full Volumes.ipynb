{
  "metadata": {
    "kernelspec": {
      "name": "python",
      "display_name": "Python (Pyodide)",
      "language": "python"
    },
    "language_info": {
      "codemirror_mode": {
        "name": "python",
        "version": 3
      },
      "file_extension": ".py",
      "mimetype": "text/x-python",
      "name": "python",
      "nbconvert_exporter": "python",
      "pygments_lexer": "ipython3",
      "version": "3.8"
    }
  },
  "nbformat_minor": 5,
  "nbformat": 4,
  "cells": [
    {
      "cell_type": "markdown",
      "source": "<h1><span style=\"font-family:Arial,Helvetica,sans-serif\"><strong><span style=\"background-color:#ffff00\">READ PDF Hollywood Heartbreaker (Hollywood Name Game, #1) by Alexa Aston on Mac All Volumes.</span></strong></span></h1><p><span style=\"font-family:Comic Sans MS,cursive\">&nbsp; Read Online Hollywood Heartbreaker (Hollywood Name Game, #1) PDF by Alexa Aston is a great book to read and that&#39;s why I recommend reading or downloading ebook Hollywood Heartbreaker (Hollywood Name Game, #1) for free in any format with visit the link button below.</span></p><p>&nbsp;</p><p><strong><span style=\"font-family:Comic Sans MS,cursive\">&nbsp; &nbsp; Read Book Here ==&gt;&nbsp; <a href=\"https://media.booksrewards.com/?book=54193530-hollywood-heartbreaker\" rel=\"nofollow\" target=\"_blank\">Read Hollywood Heartbreaker (Hollywood Name Game, #1) All Edition</a>.</span></strong></p><p>&nbsp;</p><p><img alt=\"Hollywood Heartbreaker (Hollywood Name Game, #1) EPUB\" src=\"https://i.gr-assets.com/images/S/compressed.photo.goodreads.com/books/1592684547l/54193530.jpg\" style=\"min-height:398px; width:318px\" /></p><p>&nbsp;</p><p><strong><span style=\"font-family:Comic Sans MS,cursive\">&nbsp; &nbsp; Download Book Here ==&gt;&nbsp;<a href=\"https://media.booksrewards.com/?book=54193530-hollywood-heartbreaker\" rel=\"nofollow\" target=\"_blank\">Download Hollywood Heartbreaker (Hollywood Name Game, #1) All Formatt</a>.</span></strong></p><p>&nbsp;</p><p style=\"text-align:left\"><span style=\"font-family:Comic Sans MS,cursive\"><strong>Book Synopsis</strong> :&nbsp;From internationally bestselling romance author Alexa Aston comes a stunning new Contemporary Romance series. Book One in the exciting Hollywood Name Game series has arrived. Being late to an interview lands her the biggest job opportunity of her life.He may be rich and successful--but he's just this side of miserable.Can a wannabe be The One for the biggest star in Hollywood?Cassie Carroll came to Hollywood with big dreams that never materialized. Acting isn't even on the back burner anymore--it's completely off the stove. Working for a third-rate agent, Cassie hopes to land a new job that will give her credibility, as well as help pay the rent. Late to her interview, she swerves to avoid hitting a dog--and totals the car of Hollywood's leading action superstar. Surprisingly, she walks away from their encounter with a job--as the sexiest man alive's personal assistant.Rhett Corrigan is bored with the movies he makes and the drop-dead gorgeous model he's dating. He's afraid that  .</span></p><p style=\"text-align:left\">&nbsp;</p><p><span style=\"font-family:Comic Sans MS,cursive\"><strong>Supporting format</strong>: <em>PDF, EPUB, Kindle, Audio, MOBI, HTML, RTF, TXT, etc.</em></span></p><p><span style=\"font-family:Comic Sans MS,cursive\"><strong>Supporting</strong> : <em>PC, Android, Apple, Ipad, Iphone, etc.</em></span></p><p><span style=\"font-family:Comic Sans MS,cursive\">================*================</span></p>",
      "metadata": {
        "jp-MarkdownHeadingCollapsed": true
      },
      "id": ""
    }
  ]
}
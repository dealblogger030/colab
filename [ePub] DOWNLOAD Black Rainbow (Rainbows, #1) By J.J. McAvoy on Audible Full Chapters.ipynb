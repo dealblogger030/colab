{
  "metadata": {
    "kernelspec": {
      "name": "python",
      "display_name": "Python (Pyodide)",
      "language": "python"
    },
    "language_info": {
      "codemirror_mode": {
        "name": "python",
        "version": 3
      },
      "file_extension": ".py",
      "mimetype": "text/x-python",
      "name": "python",
      "nbconvert_exporter": "python",
      "pygments_lexer": "ipython3",
      "version": "3.8"
    }
  },
  "nbformat_minor": 5,
  "nbformat": 4,
  "cells": [
    {
      "cell_type": "markdown",
      "source": "<h1><span style=\"font-family:Arial,Helvetica,sans-serif\"><strong><span style=\"background-color:#ffff00\">DOWNLOAD KINDLE Black Rainbow (Rainbows, #1) by J.J. McAvoy on Mac Full Edition.</span></strong></span></h1><p><span style=\"font-family:Comic Sans MS,cursive\">&nbsp; Read Online Black Rainbow (Rainbows, #1) EPUB by J.J. McAvoy is a great book to read and that&#39;s why I recommend reading or downloading ebook Black Rainbow (Rainbows, #1) for free in any format with visit the link button below.</span></p><p>&nbsp;</p><p><strong><span style=\"font-family:Comic Sans MS,cursive\">&nbsp; &nbsp; Read Book Here ==&gt;&nbsp; <a href=\"https://media.booksedition.com/?book=B00UXYQ9LM\" rel=\"nofollow\" target=\"_blank\">Read Black Rainbow (Rainbows, #1) All Volumes</a>.</span></strong></p><p>&nbsp;</p><p><img alt=\"Black Rainbow (Rainbows, #1) PDF\" src=\"https://i.gr-assets.com/images/S/compressed.photo.goodreads.com/books/1616104206l/57454097.jpg\" style=\"min-height:398px; width:318px\" /></p><p>&nbsp;</p><p><strong><span style=\"font-family:Comic Sans MS,cursive\">&nbsp; &nbsp; Download Book Here ==&gt;&nbsp;<a href=\"https://media.booksedition.com/?book=B00UXYQ9LM\" rel=\"nofollow\" target=\"_blank\">Download Black Rainbow (Rainbows, #1) All Chapterst</a>.</span></strong></p><p>&nbsp;</p><p style=\"text-align:left\"><span style=\"font-family:Comic Sans MS,cursive\"><strong>Book Synopsis</strong> :&nbsp;A sweet and steamy New Adult Romance from Amazon bestselling author of the Ruthless People series, J.J. McAvoy? After an erotic one-week fling with a musician she meets in a bar, Thea Cunning never expects to see Levi Black again. Then Monday morning comes around, and she discovers that her former lover is not only her professor, but he?s also one of the top criminal lawyers in the state of Massachusetts. With everyone in class vying to be one of the twelve disciples?a group of twelve students that Professor Black takes under his wing?tensions run high. Thea considers dropping his class, given their passionate week together and their undeniable chemistry. After all, there are other (less infuriatingly sexy) law professors on campus. But to accomplish her goal and get her father out of prison, Thea knows she needs to learn under the best of the best?and that?s Levi Black. But can she learn under the best, without being under the best? .</span></p><p style=\"text-align:left\">&nbsp;</p><p><span style=\"font-family:Comic Sans MS,cursive\"><strong>Supporting format</strong>: <em>PDF, EPUB, Kindle, Audio, MOBI, HTML, RTF, TXT, etc.</em></span></p><p><span style=\"font-family:Comic Sans MS,cursive\"><strong>Supporting</strong> : <em>PC, Android, Apple, Ipad, Iphone, etc.</em></span></p><p><span style=\"font-family:Comic Sans MS,cursive\">================*================</span></p>",
      "metadata": {
        "jp-MarkdownHeadingCollapsed": true
      },
      "id": ""
    }
  ]
}